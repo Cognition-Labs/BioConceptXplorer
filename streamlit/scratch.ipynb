{
 "cells": [
  {
   "cell_type": "code",
   "execution_count": 16,
   "metadata": {},
   "outputs": [],
   "source": [
    "import requests\n",
    "from typing import List, Tuple\n",
    "import pandas as pd\n",
    "\n",
    "def process_input(user_input: str) -> List[str]:\n",
    "    url = f'https://shreyj1729--bioconceptvecxplorer-bert-query.modal.run/?query={user_input}&top_k=5'\n",
    "    r = requests.get(url)\n",
    "    options: List[Tuple[str, float]] = r.json()\n",
    "    # Turn it into a list of strings with the format \"concept: score\"\n",
    "    options_str: List[str] = [f\"{concept}| Similarity: {score}\" for concept, score in options]\n",
    "    # If no similar concepts are found, return a list with a single string\n",
    "    if not options_str:\n",
    "        options_str = [\"No similar concepts found. Please try again.\"]\n",
    "    return options_str"
   ]
  },
  {
   "cell_type": "code",
   "execution_count": 17,
   "metadata": {},
   "outputs": [
    {
     "data": {
      "text/plain": [
       "['Disease_MESH_C536475 | Urachal cancer| Similarity: 0.7757975459098816',\n",
       " 'Disease_MESH_C563898 | Oligodontia-Colorectal Cancer Syndrome| Similarity: 0.7474232912063599',\n",
       " 'Gene_320256 | deleted in lung and esophageal cancer 1| Similarity: 0.7471975088119507',\n",
       " 'Disease_MESH_C538511 | Cancer of the oviduct| Similarity: 0.7456916570663452',\n",
       " 'Disease_MESH_C563985 | Melanoma-Pancreatic Cancer Syndrome| Similarity: 0.7402489185333252']"
      ]
     },
     "execution_count": 17,
     "metadata": {},
     "output_type": "execute_result"
    }
   ],
   "source": [
    "process_input(\"cancer\")"
   ]
  },
  {
   "cell_type": "code",
   "execution_count": 18,
   "metadata": {},
   "outputs": [
    {
     "ename": "SyntaxError",
     "evalue": "invalid syntax (1685335598.py, line 2)",
     "output_type": "error",
     "traceback": [
      "\u001b[0;36m  Cell \u001b[0;32mIn[18], line 2\u001b[0;36m\u001b[0m\n\u001b[0;31m    https://shreyj1729--bioconceptvecxplorer-free-var-search.modal.run?query=Disease_MESH_C536475&n=100&sim_threshold=0.7&use_gpt=gpt-4\u001b[0m\n\u001b[0m          ^\u001b[0m\n\u001b[0;31mSyntaxError\u001b[0m\u001b[0;31m:\u001b[0m invalid syntax\n"
     ]
    }
   ],
   "source": [
    "# https://shreyj1729--bioconceptvecxplorer-free-var-search.modal.run?query=<UNMAPPED_NAME>&n=<NUMBER_SAMPLES>&sim_threshold=<THRESHOLD>&use_gpt=<none/gpt-3.5-turbo/gpt-4>\n",
    "https://shreyj1729--bioconceptvecxplorer-free-var-search.modal.run?query=Disease_MESH_C536475&n=100&sim_threshold=0.7&use_gpt=gpt-4\n"
   ]
  },
  {
   "cell_type": "code",
   "execution_count": 19,
   "metadata": {},
   "outputs": [],
   "source": [
    "def get_free_var_search(query, sim_threshold):\n",
    "    base_url = 'https://shreyj1729--bioconceptvecxplorer-free-var-search.modal.run'\n",
    "    n_samples = 100\n",
    "    use_gpt = 'gpt-4'\n",
    "    params = {\n",
    "        'query': query,\n",
    "        'n': n_samples,\n",
    "        'sim_threshold': sim_threshold,\n",
    "        'use_gpt': use_gpt\n",
    "    }\n",
    "\n",
    "    try:\n",
    "        response = requests.get(base_url, params=params)\n",
    "        response.raise_for_status()  # Raises stored HTTPError, if one occurred.\n",
    "\n",
    "        json_response = response.json()\n",
    "\n",
    "        # Check if the response is not empty and is a list\n",
    "        if json_response and isinstance(json_response, list):\n",
    "            df = pd.DataFrame(json_response)\n",
    "            return df\n",
    "        else:\n",
    "            print(\"Error: Unexpected response format.\")\n",
    "            return None\n",
    "    except requests.exceptions.RequestException as e:\n",
    "        print(\"Error: Request failed:\", e)\n",
    "        return None\n"
   ]
  },
  {
   "cell_type": "code",
   "execution_count": 20,
   "metadata": {},
   "outputs": [
    {
     "data": {
      "text/html": [
       "<div>\n",
       "<style scoped>\n",
       "    .dataframe tbody tr th:only-of-type {\n",
       "        vertical-align: middle;\n",
       "    }\n",
       "\n",
       "    .dataframe tbody tr th {\n",
       "        vertical-align: top;\n",
       "    }\n",
       "\n",
       "    .dataframe thead th {\n",
       "        text-align: right;\n",
       "    }\n",
       "</style>\n",
       "<table border=\"1\" class=\"dataframe\">\n",
       "  <thead>\n",
       "    <tr style=\"text-align: right;\">\n",
       "      <th></th>\n",
       "      <th>Equation</th>\n",
       "      <th>Q</th>\n",
       "      <th>B</th>\n",
       "      <th>C</th>\n",
       "      <th>D</th>\n",
       "      <th>Equation (Mapped)</th>\n",
       "      <th>Q (Mapped)</th>\n",
       "      <th>B (Mapped)</th>\n",
       "      <th>C (Mapped)</th>\n",
       "      <th>D (Mapped)</th>\n",
       "      <th>Similarity</th>\n",
       "      <th>Rationale</th>\n",
       "    </tr>\n",
       "  </thead>\n",
       "  <tbody>\n",
       "    <tr>\n",
       "      <th>0</th>\n",
       "      <td>(Disease_MESH_C536475) + (Chemical_MESH_C55233...</td>\n",
       "      <td>Disease_MESH_C536475</td>\n",
       "      <td>Chemical_MESH_C552334</td>\n",
       "      <td>Gene_102190087</td>\n",
       "      <td>Chemical_MESH_C529054</td>\n",
       "      <td>Disease_MESH_C536475 (aka Urachal cancer) + Ch...</td>\n",
       "      <td>Urachal cancer</td>\n",
       "      <td>Chemical C552334</td>\n",
       "      <td>S100 calcium binding protein A4</td>\n",
       "      <td>dapagliflozin</td>\n",
       "      <td>0.894766</td>\n",
       "      <td>Disease_MESH_C536475 (Urachal cancer): This re...</td>\n",
       "    </tr>\n",
       "    <tr>\n",
       "      <th>1</th>\n",
       "      <td>(Disease_MESH_C536475) + (Gene_851042) - (Gene...</td>\n",
       "      <td>Disease_MESH_C536475</td>\n",
       "      <td>Gene_851042</td>\n",
       "      <td>Gene_421409</td>\n",
       "      <td>Gene_854170</td>\n",
       "      <td>Disease_MESH_C536475 (aka Urachal cancer) + Ge...</td>\n",
       "      <td>Urachal cancer</td>\n",
       "      <td>Mid2p</td>\n",
       "      <td>protein kinase C epsilon</td>\n",
       "      <td>Slg1p</td>\n",
       "      <td>0.795271</td>\n",
       "      <td>N/A</td>\n",
       "    </tr>\n",
       "    <tr>\n",
       "      <th>2</th>\n",
       "      <td>(Disease_MESH_C536475) + (Chemical_MESH_C06862...</td>\n",
       "      <td>Disease_MESH_C536475</td>\n",
       "      <td>Chemical_MESH_C068623</td>\n",
       "      <td>ProteinMutation_p_E9A</td>\n",
       "      <td>Chemical_MESH_C018381</td>\n",
       "      <td>Disease_MESH_C536475 (aka Urachal cancer) + Ch...</td>\n",
       "      <td>Urachal cancer</td>\n",
       "      <td>carnosol</td>\n",
       "      <td>ProteinMutation E9A</td>\n",
       "      <td>salvin</td>\n",
       "      <td>0.769016</td>\n",
       "      <td>N/A</td>\n",
       "    </tr>\n",
       "  </tbody>\n",
       "</table>\n",
       "</div>"
      ],
      "text/plain": [
       "                                            Equation                     Q  \\\n",
       "0  (Disease_MESH_C536475) + (Chemical_MESH_C55233...  Disease_MESH_C536475   \n",
       "1  (Disease_MESH_C536475) + (Gene_851042) - (Gene...  Disease_MESH_C536475   \n",
       "2  (Disease_MESH_C536475) + (Chemical_MESH_C06862...  Disease_MESH_C536475   \n",
       "\n",
       "                       B                      C                      D  \\\n",
       "0  Chemical_MESH_C552334         Gene_102190087  Chemical_MESH_C529054   \n",
       "1            Gene_851042            Gene_421409            Gene_854170   \n",
       "2  Chemical_MESH_C068623  ProteinMutation_p_E9A  Chemical_MESH_C018381   \n",
       "\n",
       "                                   Equation (Mapped)      Q (Mapped)  \\\n",
       "0  Disease_MESH_C536475 (aka Urachal cancer) + Ch...  Urachal cancer   \n",
       "1  Disease_MESH_C536475 (aka Urachal cancer) + Ge...  Urachal cancer   \n",
       "2  Disease_MESH_C536475 (aka Urachal cancer) + Ch...  Urachal cancer   \n",
       "\n",
       "         B (Mapped)                       C (Mapped)     D (Mapped)  \\\n",
       "0  Chemical C552334  S100 calcium binding protein A4  dapagliflozin   \n",
       "1             Mid2p         protein kinase C epsilon          Slg1p   \n",
       "2          carnosol              ProteinMutation E9A         salvin   \n",
       "\n",
       "   Similarity                                          Rationale  \n",
       "0    0.894766  Disease_MESH_C536475 (Urachal cancer): This re...  \n",
       "1    0.795271                                                N/A  \n",
       "2    0.769016                                                N/A  "
      ]
     },
     "execution_count": 20,
     "metadata": {},
     "output_type": "execute_result"
    }
   ],
   "source": [
    "get_free_var_search('Disease_MESH_C536475', 0.7)"
   ]
  }
 ],
 "metadata": {
  "kernelspec": {
   "display_name": "base",
   "language": "python",
   "name": "python3"
  },
  "language_info": {
   "codemirror_mode": {
    "name": "ipython",
    "version": 3
   },
   "file_extension": ".py",
   "mimetype": "text/x-python",
   "name": "python",
   "nbconvert_exporter": "python",
   "pygments_lexer": "ipython3",
   "version": "3.9.15"
  },
  "orig_nbformat": 4
 },
 "nbformat": 4,
 "nbformat_minor": 2
}
